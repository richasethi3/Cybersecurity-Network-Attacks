{
 "cells": [
  {
   "cell_type": "code",
   "execution_count": 152,
   "metadata": {},
   "outputs": [],
   "source": [
    "import pandas as pd\n",
    "import numpy as np\n",
    "import seaborn as sns\n",
    "import matplotlib.pylab as plt\n"
   ]
  },
  {
   "cell_type": "code",
   "execution_count": 153,
   "metadata": {},
   "outputs": [],
   "source": [
    "df = pd.read_csv('CSRIC_Best_Practices.csv')"
   ]
  },
  {
   "cell_type": "code",
   "execution_count": 154,
   "metadata": {},
   "outputs": [
    {
     "data": {
      "text/plain": [
       "(1092, 20)"
      ]
     },
     "execution_count": 154,
     "metadata": {},
     "output_type": "execute_result"
    }
   ],
   "source": [
    "df.shape"
   ]
  },
  {
   "cell_type": "code",
   "execution_count": 155,
   "metadata": {},
   "outputs": [
    {
     "data": {
      "text/html": [
       "<div>\n",
       "<style scoped>\n",
       "    .dataframe tbody tr th:only-of-type {\n",
       "        vertical-align: middle;\n",
       "    }\n",
       "\n",
       "    .dataframe tbody tr th {\n",
       "        vertical-align: top;\n",
       "    }\n",
       "\n",
       "    .dataframe thead th {\n",
       "        text-align: right;\n",
       "    }\n",
       "</style>\n",
       "<table border=\"1\" class=\"dataframe\">\n",
       "  <thead>\n",
       "    <tr style=\"text-align: right;\">\n",
       "      <th></th>\n",
       "      <th>BP Number</th>\n",
       "      <th>Priority</th>\n",
       "      <th>Description</th>\n",
       "      <th>Network Type(s)</th>\n",
       "      <th>Industry Role(s)</th>\n",
       "      <th>Keywords</th>\n",
       "      <th>Public Safety and Disaster</th>\n",
       "      <th>Reference</th>\n",
       "      <th>cable</th>\n",
       "      <th>internet/Data</th>\n",
       "      <th>satellite</th>\n",
       "      <th>wireless</th>\n",
       "      <th>wireline</th>\n",
       "      <th>Service Provider</th>\n",
       "      <th>Network Operator</th>\n",
       "      <th>Priority (1,2,3)</th>\n",
       "      <th>Equipment Supplier</th>\n",
       "      <th>Property Manager</th>\n",
       "      <th>Government</th>\n",
       "      <th>Public Safety</th>\n",
       "    </tr>\n",
       "  </thead>\n",
       "  <tbody>\n",
       "    <tr>\n",
       "      <th>0</th>\n",
       "      <td>12-10-0436</td>\n",
       "      <td>Highly Important</td>\n",
       "      <td>Network Operators, Service Providers, and Publ...</td>\n",
       "      <td>Cable; Internet/Data; Satellite; Wireless; Wir...</td>\n",
       "      <td>Service Provider; Network Operator; Public Saf...</td>\n",
       "      <td>Network Operations; Procedures;</td>\n",
       "      <td>True</td>\n",
       "      <td>NaN</td>\n",
       "      <td>True</td>\n",
       "      <td>True</td>\n",
       "      <td>True</td>\n",
       "      <td>True</td>\n",
       "      <td>True</td>\n",
       "      <td>True</td>\n",
       "      <td>True</td>\n",
       "      <td>2.0</td>\n",
       "      <td>False</td>\n",
       "      <td>False</td>\n",
       "      <td>False</td>\n",
       "      <td>True</td>\n",
       "    </tr>\n",
       "    <tr>\n",
       "      <th>1</th>\n",
       "      <td>12-10-0437</td>\n",
       "      <td>Highly Important</td>\n",
       "      <td>Network Operators and Service Providers should...</td>\n",
       "      <td>Internet/Data;</td>\n",
       "      <td>Service Provider; Network Operator;</td>\n",
       "      <td>Cyber Security; Network Operations; Network Pr...</td>\n",
       "      <td>False</td>\n",
       "      <td>NaN</td>\n",
       "      <td>False</td>\n",
       "      <td>True</td>\n",
       "      <td>False</td>\n",
       "      <td>False</td>\n",
       "      <td>False</td>\n",
       "      <td>True</td>\n",
       "      <td>True</td>\n",
       "      <td>2.0</td>\n",
       "      <td>False</td>\n",
       "      <td>False</td>\n",
       "      <td>False</td>\n",
       "      <td>False</td>\n",
       "    </tr>\n",
       "    <tr>\n",
       "      <th>2</th>\n",
       "      <td>12-10-0440</td>\n",
       "      <td>Highly Important</td>\n",
       "      <td>Network Operators and Service Providers should...</td>\n",
       "      <td>Internet/Data;</td>\n",
       "      <td>Service Provider; Network Operator;</td>\n",
       "      <td>Industry Cooperation; Network Operations;</td>\n",
       "      <td>False</td>\n",
       "      <td>NaN</td>\n",
       "      <td>False</td>\n",
       "      <td>True</td>\n",
       "      <td>False</td>\n",
       "      <td>False</td>\n",
       "      <td>False</td>\n",
       "      <td>True</td>\n",
       "      <td>True</td>\n",
       "      <td>2.0</td>\n",
       "      <td>False</td>\n",
       "      <td>False</td>\n",
       "      <td>False</td>\n",
       "      <td>False</td>\n",
       "    </tr>\n",
       "    <tr>\n",
       "      <th>3</th>\n",
       "      <td>12-10-0447</td>\n",
       "      <td>Important</td>\n",
       "      <td>Network Operators and Service Providers should...</td>\n",
       "      <td>Cable; Internet/Data; Satellite; Wireless; Wir...</td>\n",
       "      <td>Service Provider; Network Operator;</td>\n",
       "      <td>Liaison; Network Operations;</td>\n",
       "      <td>False</td>\n",
       "      <td>Note: This Best practice could impact 9-1-1 op...</td>\n",
       "      <td>True</td>\n",
       "      <td>True</td>\n",
       "      <td>True</td>\n",
       "      <td>True</td>\n",
       "      <td>True</td>\n",
       "      <td>True</td>\n",
       "      <td>True</td>\n",
       "      <td>1.0</td>\n",
       "      <td>False</td>\n",
       "      <td>False</td>\n",
       "      <td>False</td>\n",
       "      <td>False</td>\n",
       "    </tr>\n",
       "    <tr>\n",
       "      <th>4</th>\n",
       "      <td>12-10-0448</td>\n",
       "      <td>Highly Important</td>\n",
       "      <td>Equipment Suppliers should  where feasible, pr...</td>\n",
       "      <td>Cable; Internet/Data; Satellite; Wireless; Wir...</td>\n",
       "      <td>Equipment Supplier;</td>\n",
       "      <td>Hardware; Network Elements; Network Provisioni...</td>\n",
       "      <td>False</td>\n",
       "      <td>NaN</td>\n",
       "      <td>True</td>\n",
       "      <td>True</td>\n",
       "      <td>True</td>\n",
       "      <td>True</td>\n",
       "      <td>True</td>\n",
       "      <td>False</td>\n",
       "      <td>False</td>\n",
       "      <td>2.0</td>\n",
       "      <td>True</td>\n",
       "      <td>False</td>\n",
       "      <td>False</td>\n",
       "      <td>False</td>\n",
       "    </tr>\n",
       "  </tbody>\n",
       "</table>\n",
       "</div>"
      ],
      "text/plain": [
       "    BP Number          Priority  \\\n",
       "0  12-10-0436  Highly Important   \n",
       "1  12-10-0437  Highly Important   \n",
       "2  12-10-0440  Highly Important   \n",
       "3  12-10-0447         Important   \n",
       "4  12-10-0448  Highly Important   \n",
       "\n",
       "                                         Description  \\\n",
       "0  Network Operators, Service Providers, and Publ...   \n",
       "1  Network Operators and Service Providers should...   \n",
       "2  Network Operators and Service Providers should...   \n",
       "3  Network Operators and Service Providers should...   \n",
       "4  Equipment Suppliers should  where feasible, pr...   \n",
       "\n",
       "                                     Network Type(s)  \\\n",
       "0  Cable; Internet/Data; Satellite; Wireless; Wir...   \n",
       "1                                     Internet/Data;   \n",
       "2                                     Internet/Data;   \n",
       "3  Cable; Internet/Data; Satellite; Wireless; Wir...   \n",
       "4  Cable; Internet/Data; Satellite; Wireless; Wir...   \n",
       "\n",
       "                                    Industry Role(s)  \\\n",
       "0  Service Provider; Network Operator; Public Saf...   \n",
       "1                Service Provider; Network Operator;   \n",
       "2                Service Provider; Network Operator;   \n",
       "3                Service Provider; Network Operator;   \n",
       "4                                Equipment Supplier;   \n",
       "\n",
       "                                            Keywords  \\\n",
       "0                    Network Operations; Procedures;   \n",
       "1  Cyber Security; Network Operations; Network Pr...   \n",
       "2          Industry Cooperation; Network Operations;   \n",
       "3                       Liaison; Network Operations;   \n",
       "4  Hardware; Network Elements; Network Provisioni...   \n",
       "\n",
       "   Public Safety and Disaster  \\\n",
       "0                        True   \n",
       "1                       False   \n",
       "2                       False   \n",
       "3                       False   \n",
       "4                       False   \n",
       "\n",
       "                                           Reference  cable  internet/Data  \\\n",
       "0                                                NaN   True           True   \n",
       "1                                                NaN  False           True   \n",
       "2                                                NaN  False           True   \n",
       "3  Note: This Best practice could impact 9-1-1 op...   True           True   \n",
       "4                                                NaN   True           True   \n",
       "\n",
       "   satellite  wireless  wireline  Service Provider  Network Operator  \\\n",
       "0       True      True      True              True              True   \n",
       "1      False     False     False              True              True   \n",
       "2      False     False     False              True              True   \n",
       "3       True      True      True              True              True   \n",
       "4       True      True      True             False             False   \n",
       "\n",
       "   Priority (1,2,3)  Equipment Supplier  Property Manager  Government  \\\n",
       "0               2.0               False             False       False   \n",
       "1               2.0               False             False       False   \n",
       "2               2.0               False             False       False   \n",
       "3               1.0               False             False       False   \n",
       "4               2.0                True             False       False   \n",
       "\n",
       "   Public Safety  \n",
       "0           True  \n",
       "1          False  \n",
       "2          False  \n",
       "3          False  \n",
       "4          False  "
      ]
     },
     "execution_count": 155,
     "metadata": {},
     "output_type": "execute_result"
    }
   ],
   "source": [
    "df.head()"
   ]
  },
  {
   "cell_type": "code",
   "execution_count": 156,
   "metadata": {},
   "outputs": [
    {
     "data": {
      "text/plain": [
       "BP Number                     False\n",
       "Priority                       True\n",
       "Description                   False\n",
       "Network Type(s)               False\n",
       "Industry Role(s)              False\n",
       "Keywords                       True\n",
       "Public Safety and Disaster    False\n",
       "Reference                      True\n",
       "cable                         False\n",
       "internet/Data                 False\n",
       "satellite                     False\n",
       "wireless                      False\n",
       "wireline                      False\n",
       "Service Provider              False\n",
       "Network Operator              False\n",
       "Priority (1,2,3)               True\n",
       "Equipment Supplier            False\n",
       "Property Manager              False\n",
       "Government                    False\n",
       "Public Safety                 False\n",
       "dtype: bool"
      ]
     },
     "execution_count": 156,
     "metadata": {},
     "output_type": "execute_result"
    }
   ],
   "source": [
    "df.isna().any()"
   ]
  },
  {
   "cell_type": "code",
   "execution_count": 157,
   "metadata": {},
   "outputs": [
    {
     "name": "stdout",
     "output_type": "stream",
     "text": [
      "<class 'pandas.core.frame.DataFrame'>\n",
      "RangeIndex: 1092 entries, 0 to 1091\n",
      "Data columns (total 20 columns):\n",
      " #   Column                      Non-Null Count  Dtype  \n",
      "---  ------                      --------------  -----  \n",
      " 0   BP Number                   1092 non-null   object \n",
      " 1   Priority                    1006 non-null   object \n",
      " 2   Description                 1092 non-null   object \n",
      " 3   Network Type(s)             1092 non-null   object \n",
      " 4   Industry Role(s)            1092 non-null   object \n",
      " 5   Keywords                    1088 non-null   object \n",
      " 6   Public Safety and Disaster  1092 non-null   bool   \n",
      " 7   Reference                   490 non-null    object \n",
      " 8   cable                       1092 non-null   bool   \n",
      " 9   internet/Data               1092 non-null   bool   \n",
      " 10  satellite                   1092 non-null   bool   \n",
      " 11  wireless                    1092 non-null   bool   \n",
      " 12  wireline                    1092 non-null   bool   \n",
      " 13  Service Provider            1092 non-null   bool   \n",
      " 14  Network Operator            1092 non-null   bool   \n",
      " 15  Priority (1,2,3)            1006 non-null   float64\n",
      " 16  Equipment Supplier          1092 non-null   bool   \n",
      " 17  Property Manager            1092 non-null   bool   \n",
      " 18  Government                  1092 non-null   bool   \n",
      " 19  Public Safety               1092 non-null   bool   \n",
      "dtypes: bool(12), float64(1), object(7)\n",
      "memory usage: 81.2+ KB\n"
     ]
    }
   ],
   "source": [
    "df.info()"
   ]
  },
  {
   "cell_type": "code",
   "execution_count": 158,
   "metadata": {},
   "outputs": [
    {
     "data": {
      "text/plain": [
       "Important           465\n",
       "Highly Important    350\n",
       "Critical            191\n",
       "Name: Priority, dtype: int64"
      ]
     },
     "execution_count": 158,
     "metadata": {},
     "output_type": "execute_result"
    }
   ],
   "source": [
    "df['Priority'].value_counts()"
   ]
  },
  {
   "cell_type": "code",
   "execution_count": 159,
   "metadata": {},
   "outputs": [
    {
     "data": {
      "text/plain": [
       "1.0    465\n",
       "2.0    350\n",
       "3.0    191\n",
       "Name: Priority (1,2,3), dtype: int64"
      ]
     },
     "execution_count": 159,
     "metadata": {},
     "output_type": "execute_result"
    }
   ],
   "source": [
    "df['Priority (1,2,3)'].value_counts()"
   ]
  },
  {
   "cell_type": "code",
   "execution_count": 201,
   "metadata": {},
   "outputs": [
    {
     "data": {
      "text/html": [
       "<div>\n",
       "<style scoped>\n",
       "    .dataframe tbody tr th:only-of-type {\n",
       "        vertical-align: middle;\n",
       "    }\n",
       "\n",
       "    .dataframe tbody tr th {\n",
       "        vertical-align: top;\n",
       "    }\n",
       "\n",
       "    .dataframe thead th {\n",
       "        text-align: right;\n",
       "    }\n",
       "</style>\n",
       "<table border=\"1\" class=\"dataframe\">\n",
       "  <thead>\n",
       "    <tr style=\"text-align: right;\">\n",
       "      <th></th>\n",
       "      <th>missing_%</th>\n",
       "    </tr>\n",
       "  </thead>\n",
       "  <tbody>\n",
       "    <tr>\n",
       "      <th>Public Safety and Disaster</th>\n",
       "      <td>0.0</td>\n",
       "    </tr>\n",
       "    <tr>\n",
       "      <th>cable</th>\n",
       "      <td>0.0</td>\n",
       "    </tr>\n",
       "    <tr>\n",
       "      <th>internet/Data</th>\n",
       "      <td>0.0</td>\n",
       "    </tr>\n",
       "    <tr>\n",
       "      <th>satellite</th>\n",
       "      <td>0.0</td>\n",
       "    </tr>\n",
       "    <tr>\n",
       "      <th>wireless</th>\n",
       "      <td>0.0</td>\n",
       "    </tr>\n",
       "    <tr>\n",
       "      <th>wireline</th>\n",
       "      <td>0.0</td>\n",
       "    </tr>\n",
       "    <tr>\n",
       "      <th>Service Provider</th>\n",
       "      <td>0.0</td>\n",
       "    </tr>\n",
       "    <tr>\n",
       "      <th>Network Operator</th>\n",
       "      <td>0.0</td>\n",
       "    </tr>\n",
       "    <tr>\n",
       "      <th>Priority (1,2,3)</th>\n",
       "      <td>0.0</td>\n",
       "    </tr>\n",
       "    <tr>\n",
       "      <th>Equipment Supplier</th>\n",
       "      <td>0.0</td>\n",
       "    </tr>\n",
       "    <tr>\n",
       "      <th>Property Manager</th>\n",
       "      <td>0.0</td>\n",
       "    </tr>\n",
       "    <tr>\n",
       "      <th>Government</th>\n",
       "      <td>0.0</td>\n",
       "    </tr>\n",
       "    <tr>\n",
       "      <th>Public Safety</th>\n",
       "      <td>0.0</td>\n",
       "    </tr>\n",
       "  </tbody>\n",
       "</table>\n",
       "</div>"
      ],
      "text/plain": [
       "                            missing_%\n",
       "Public Safety and Disaster        0.0\n",
       "cable                             0.0\n",
       "internet/Data                     0.0\n",
       "satellite                         0.0\n",
       "wireless                          0.0\n",
       "wireline                          0.0\n",
       "Service Provider                  0.0\n",
       "Network Operator                  0.0\n",
       "Priority (1,2,3)                  0.0\n",
       "Equipment Supplier                0.0\n",
       "Property Manager                  0.0\n",
       "Government                        0.0\n",
       "Public Safety                     0.0"
      ]
     },
     "execution_count": 201,
     "metadata": {},
     "output_type": "execute_result"
    }
   ],
   "source": [
    "missing = pd.DataFrame(df.isnull().mean()*100, columns=['missing_%'])\n",
    "missing.sort_values(by='missing_%', ascending=False)"
   ]
  },
  {
   "cell_type": "code",
   "execution_count": 161,
   "metadata": {},
   "outputs": [
    {
     "data": {
      "text/plain": [
       "Cable; Internet/Data; Satellite; Wireless; Wireline;    715\n",
       "Internet/Data;                                          126\n",
       "Wireless;                                                79\n",
       "Cable; Internet/Data; Wireline;                          64\n",
       "Cable; Internet/Data; Wireless; Wireline;                58\n",
       "Cable; Internet/Data; Satellite; Wireless;                9\n",
       "Satellite;                                                8\n",
       "Cable; Wireless; Wireline;                                7\n",
       "Wireline;                                                 6\n",
       "Cable; Internet/Data; Satellite; Wireline;                5\n",
       "Cable; Internet/Data; Wireless;                           3\n",
       "Cable; Satellite; Wireless; Wireline;                     2\n",
       "Internet/Data; Wireless;                                  2\n",
       "Wireless; Wireline;                                       1\n",
       "Satellite; Wireless;                                      1\n",
       "Cable;                                                    1\n",
       "Cable; Wireless;                                          1\n",
       "Internet/Data; Satellite; Wireless; Wireline;             1\n",
       "Internet/Data; Satellite;                                 1\n",
       "Internet/Data; Wireless; Wireline;                        1\n",
       "Cable; Internet/Data;                                     1\n",
       "Name: Network Type(s), dtype: int64"
      ]
     },
     "execution_count": 161,
     "metadata": {},
     "output_type": "execute_result"
    }
   ],
   "source": [
    "df['Network Type(s)'].value_counts()"
   ]
  },
  {
   "cell_type": "code",
   "execution_count": 162,
   "metadata": {},
   "outputs": [
    {
     "data": {
      "text/plain": [
       "Service Provider; Network Operator;                                                                     204\n",
       "Service Provider; Network Operator; Public Safety;                                                      181\n",
       "Service Provider; Network Operator; Equipment Supplier; Public Safety;                                  175\n",
       "Network Operator;                                                                                        79\n",
       "Service Provider; Network Operator; Public Safety; Property Manager;                                     64\n",
       "Service Provider; Network Operator; Equipment Supplier; Public Safety; Property Manager;                 62\n",
       "Equipment Supplier;                                                                                      61\n",
       "Service Provider; Network Operator; Equipment Supplier;                                                  61\n",
       "Service Provider;                                                                                        59\n",
       "Network Operator; Public Safety;                                                                         23\n",
       "Public Safety;                                                                                           18\n",
       "Network Operator; Public Safety; Property Manager;                                                       17\n",
       "Service Provider; Public Safety;                                                                         15\n",
       "Service Provider; Network Operator; Property Manager;                                                    13\n",
       "Service Provider; Network Operator; Equipment Supplier; Property Manager;                                11\n",
       "Network Operator; Equipment Supplier; Public Safety;                                                      9\n",
       "Network Operator; Property Manager;                                                                       5\n",
       "Network Operator; Government;                                                                             4\n",
       "Property Manager;                                                                                         4\n",
       "Service Provider; Network Operator; Government; Public Safety;                                            3\n",
       "Service Provider; Network Operator; Equipment Supplier; Government; Public Safety;                        3\n",
       "Service Provider; Equipment Supplier;                                                                     3\n",
       "Service Provider; Network Operator; Equipment Supplier; Government;                                       3\n",
       "Network Operator; Equipment Supplier;                                                                     3\n",
       "Service Provider; Network Operator; Equipment Supplier; Government; Public Safety; Property Manager;      2\n",
       "Network Operator; Equipment Supplier; Public Safety; Property Manager;                                    2\n",
       "Equipment Supplier; Public Safety;                                                                        2\n",
       "Service Provider; Network Operator; Government; Public Safety; Property Manager;                          1\n",
       "Service Provider; Government;                                                                             1\n",
       "Government; Public Safety;                                                                                1\n",
       "Service Provider; Equipment Supplier; Public Safety;                                                      1\n",
       "Service Provider; Network Operator; Government;                                                           1\n",
       "Equipment Supplier; Property Manager;                                                                     1\n",
       "Name: Industry Role(s), dtype: int64"
      ]
     },
     "execution_count": 162,
     "metadata": {},
     "output_type": "execute_result"
    }
   ],
   "source": [
    "df['Industry Role(s)'].value_counts()"
   ]
  },
  {
   "cell_type": "code",
   "execution_count": 163,
   "metadata": {},
   "outputs": [
    {
     "data": {
      "text/plain": [
       "Cyber Security; Intrusion Detection; Network Operations;                                          31\n",
       "Cyber Security; Intrusion Detection;                                                              21\n",
       "Cyber Security; Network Operations;                                                               18\n",
       "Cyber Security; Network Elements; Network Operations;                                             17\n",
       "Cyber Security; Encryption; Information Protection; Intrusion Detection;                          15\n",
       "Cyber Security;                                                                                   14\n",
       "Cyber Security; Disaster Recovery; Emergency Preparedness; Intrusion Detection;                   11\n",
       "Network Operations;                                                                               11\n",
       "Cyber Security; Encryption; Information Protection; Public Safety; Public Safety and Disaster;    10\n",
       "Cyber Security; Encryption; Intrusion Detection;                                                  10\n",
       "Hardware; Network Elements;                                                                       10\n",
       "Cyber Security; Disaster Recovery; Emergency Preparedness;                                        10\n",
       "Cyber Security; Hardware; Network Interoperability;                                                9\n",
       "Cyber Security; Intrusion Detection; Network Elements; Network Operations;                         9\n",
       "Network Operations; Procedures;                                                                    9\n",
       "Cyber Security; Hardware;                                                                          9\n",
       "Emergency Preparedness; Essential Services; Public Safety and Disaster;                            7\n",
       "Hardware; Network Elements; Software;                                                              7\n",
       "Cyber Security; Encryption;                                                                        7\n",
       "Cyber Security; Intrusion Detection; Network Interoperability; Network Operations;                 6\n",
       "Name: Keywords, dtype: int64"
      ]
     },
     "execution_count": 163,
     "metadata": {},
     "output_type": "execute_result"
    }
   ],
   "source": [
    "df['Keywords'].value_counts().head(20)"
   ]
  },
  {
   "cell_type": "code",
   "execution_count": 164,
   "metadata": {},
   "outputs": [
    {
     "data": {
      "text/plain": [
       "1092"
      ]
     },
     "execution_count": 164,
     "metadata": {},
     "output_type": "execute_result"
    }
   ],
   "source": [
    "df['BP Number'].nunique()"
   ]
  },
  {
   "cell_type": "code",
   "execution_count": 165,
   "metadata": {},
   "outputs": [],
   "source": [
    "df.drop(['Keywords','Reference', 'BP Number', 'Priority', 'Description'], axis=1, inplace=True)"
   ]
  },
  {
   "cell_type": "code",
   "execution_count": 166,
   "metadata": {},
   "outputs": [],
   "source": [
    "df.drop(['Industry Role(s)', 'Network Type(s)'], axis=1, inplace=True)"
   ]
  },
  {
   "cell_type": "code",
   "execution_count": 202,
   "metadata": {},
   "outputs": [
    {
     "data": {
      "text/html": [
       "<div>\n",
       "<style scoped>\n",
       "    .dataframe tbody tr th:only-of-type {\n",
       "        vertical-align: middle;\n",
       "    }\n",
       "\n",
       "    .dataframe tbody tr th {\n",
       "        vertical-align: top;\n",
       "    }\n",
       "\n",
       "    .dataframe thead th {\n",
       "        text-align: right;\n",
       "    }\n",
       "</style>\n",
       "<table border=\"1\" class=\"dataframe\">\n",
       "  <thead>\n",
       "    <tr style=\"text-align: right;\">\n",
       "      <th></th>\n",
       "      <th>Public Safety and Disaster</th>\n",
       "      <th>cable</th>\n",
       "      <th>internet/Data</th>\n",
       "      <th>satellite</th>\n",
       "      <th>wireless</th>\n",
       "      <th>wireline</th>\n",
       "      <th>Service Provider</th>\n",
       "      <th>Network Operator</th>\n",
       "      <th>Priority (1,2,3)</th>\n",
       "      <th>Equipment Supplier</th>\n",
       "      <th>Property Manager</th>\n",
       "      <th>Government</th>\n",
       "      <th>Public Safety</th>\n",
       "    </tr>\n",
       "  </thead>\n",
       "  <tbody>\n",
       "    <tr>\n",
       "      <th>0</th>\n",
       "      <td>True</td>\n",
       "      <td>True</td>\n",
       "      <td>True</td>\n",
       "      <td>True</td>\n",
       "      <td>True</td>\n",
       "      <td>True</td>\n",
       "      <td>True</td>\n",
       "      <td>True</td>\n",
       "      <td>2</td>\n",
       "      <td>False</td>\n",
       "      <td>False</td>\n",
       "      <td>False</td>\n",
       "      <td>True</td>\n",
       "    </tr>\n",
       "    <tr>\n",
       "      <th>1</th>\n",
       "      <td>False</td>\n",
       "      <td>False</td>\n",
       "      <td>True</td>\n",
       "      <td>False</td>\n",
       "      <td>False</td>\n",
       "      <td>False</td>\n",
       "      <td>True</td>\n",
       "      <td>True</td>\n",
       "      <td>2</td>\n",
       "      <td>False</td>\n",
       "      <td>False</td>\n",
       "      <td>False</td>\n",
       "      <td>False</td>\n",
       "    </tr>\n",
       "    <tr>\n",
       "      <th>2</th>\n",
       "      <td>False</td>\n",
       "      <td>False</td>\n",
       "      <td>True</td>\n",
       "      <td>False</td>\n",
       "      <td>False</td>\n",
       "      <td>False</td>\n",
       "      <td>True</td>\n",
       "      <td>True</td>\n",
       "      <td>2</td>\n",
       "      <td>False</td>\n",
       "      <td>False</td>\n",
       "      <td>False</td>\n",
       "      <td>False</td>\n",
       "    </tr>\n",
       "    <tr>\n",
       "      <th>3</th>\n",
       "      <td>False</td>\n",
       "      <td>True</td>\n",
       "      <td>True</td>\n",
       "      <td>True</td>\n",
       "      <td>True</td>\n",
       "      <td>True</td>\n",
       "      <td>True</td>\n",
       "      <td>True</td>\n",
       "      <td>1</td>\n",
       "      <td>False</td>\n",
       "      <td>False</td>\n",
       "      <td>False</td>\n",
       "      <td>False</td>\n",
       "    </tr>\n",
       "    <tr>\n",
       "      <th>4</th>\n",
       "      <td>False</td>\n",
       "      <td>True</td>\n",
       "      <td>True</td>\n",
       "      <td>True</td>\n",
       "      <td>True</td>\n",
       "      <td>True</td>\n",
       "      <td>False</td>\n",
       "      <td>False</td>\n",
       "      <td>2</td>\n",
       "      <td>True</td>\n",
       "      <td>False</td>\n",
       "      <td>False</td>\n",
       "      <td>False</td>\n",
       "    </tr>\n",
       "    <tr>\n",
       "      <th>...</th>\n",
       "      <td>...</td>\n",
       "      <td>...</td>\n",
       "      <td>...</td>\n",
       "      <td>...</td>\n",
       "      <td>...</td>\n",
       "      <td>...</td>\n",
       "      <td>...</td>\n",
       "      <td>...</td>\n",
       "      <td>...</td>\n",
       "      <td>...</td>\n",
       "      <td>...</td>\n",
       "      <td>...</td>\n",
       "      <td>...</td>\n",
       "    </tr>\n",
       "    <tr>\n",
       "      <th>1087</th>\n",
       "      <td>False</td>\n",
       "      <td>False</td>\n",
       "      <td>False</td>\n",
       "      <td>False</td>\n",
       "      <td>False</td>\n",
       "      <td>True</td>\n",
       "      <td>True</td>\n",
       "      <td>True</td>\n",
       "      <td>1</td>\n",
       "      <td>True</td>\n",
       "      <td>False</td>\n",
       "      <td>False</td>\n",
       "      <td>False</td>\n",
       "    </tr>\n",
       "    <tr>\n",
       "      <th>1088</th>\n",
       "      <td>False</td>\n",
       "      <td>False</td>\n",
       "      <td>False</td>\n",
       "      <td>False</td>\n",
       "      <td>False</td>\n",
       "      <td>True</td>\n",
       "      <td>False</td>\n",
       "      <td>True</td>\n",
       "      <td>1</td>\n",
       "      <td>False</td>\n",
       "      <td>False</td>\n",
       "      <td>False</td>\n",
       "      <td>False</td>\n",
       "    </tr>\n",
       "    <tr>\n",
       "      <th>1089</th>\n",
       "      <td>True</td>\n",
       "      <td>True</td>\n",
       "      <td>True</td>\n",
       "      <td>False</td>\n",
       "      <td>False</td>\n",
       "      <td>True</td>\n",
       "      <td>True</td>\n",
       "      <td>True</td>\n",
       "      <td>1</td>\n",
       "      <td>False</td>\n",
       "      <td>False</td>\n",
       "      <td>False</td>\n",
       "      <td>True</td>\n",
       "    </tr>\n",
       "    <tr>\n",
       "      <th>1090</th>\n",
       "      <td>False</td>\n",
       "      <td>True</td>\n",
       "      <td>True</td>\n",
       "      <td>True</td>\n",
       "      <td>True</td>\n",
       "      <td>True</td>\n",
       "      <td>True</td>\n",
       "      <td>True</td>\n",
       "      <td>1</td>\n",
       "      <td>False</td>\n",
       "      <td>False</td>\n",
       "      <td>False</td>\n",
       "      <td>False</td>\n",
       "    </tr>\n",
       "    <tr>\n",
       "      <th>1091</th>\n",
       "      <td>True</td>\n",
       "      <td>True</td>\n",
       "      <td>True</td>\n",
       "      <td>True</td>\n",
       "      <td>True</td>\n",
       "      <td>True</td>\n",
       "      <td>False</td>\n",
       "      <td>False</td>\n",
       "      <td>1</td>\n",
       "      <td>False</td>\n",
       "      <td>False</td>\n",
       "      <td>False</td>\n",
       "      <td>True</td>\n",
       "    </tr>\n",
       "  </tbody>\n",
       "</table>\n",
       "<p>1092 rows × 13 columns</p>\n",
       "</div>"
      ],
      "text/plain": [
       "      Public Safety and Disaster  cable  internet/Data  satellite  wireless  \\\n",
       "0                           True   True           True       True      True   \n",
       "1                          False  False           True      False     False   \n",
       "2                          False  False           True      False     False   \n",
       "3                          False   True           True       True      True   \n",
       "4                          False   True           True       True      True   \n",
       "...                          ...    ...            ...        ...       ...   \n",
       "1087                       False  False          False      False     False   \n",
       "1088                       False  False          False      False     False   \n",
       "1089                        True   True           True      False     False   \n",
       "1090                       False   True           True       True      True   \n",
       "1091                        True   True           True       True      True   \n",
       "\n",
       "      wireline  Service Provider  Network Operator  Priority (1,2,3)  \\\n",
       "0         True              True              True                 2   \n",
       "1        False              True              True                 2   \n",
       "2        False              True              True                 2   \n",
       "3         True              True              True                 1   \n",
       "4         True             False             False                 2   \n",
       "...        ...               ...               ...               ...   \n",
       "1087      True              True              True                 1   \n",
       "1088      True             False              True                 1   \n",
       "1089      True              True              True                 1   \n",
       "1090      True              True              True                 1   \n",
       "1091      True             False             False                 1   \n",
       "\n",
       "      Equipment Supplier  Property Manager  Government  Public Safety  \n",
       "0                  False             False       False           True  \n",
       "1                  False             False       False          False  \n",
       "2                  False             False       False          False  \n",
       "3                  False             False       False          False  \n",
       "4                   True             False       False          False  \n",
       "...                  ...               ...         ...            ...  \n",
       "1087                True             False       False          False  \n",
       "1088               False             False       False          False  \n",
       "1089               False             False       False           True  \n",
       "1090               False             False       False          False  \n",
       "1091               False             False       False           True  \n",
       "\n",
       "[1092 rows x 13 columns]"
      ]
     },
     "execution_count": 202,
     "metadata": {},
     "output_type": "execute_result"
    }
   ],
   "source": [
    "df"
   ]
  },
  {
   "cell_type": "code",
   "execution_count": 172,
   "metadata": {},
   "outputs": [],
   "source": [
    "df['Priority (1,2,3)'] = df['Priority (1,2,3)'].fillna(1.0)"
   ]
  },
  {
   "cell_type": "code",
   "execution_count": 173,
   "metadata": {},
   "outputs": [],
   "source": [
    "df['Priority (1,2,3)'] = df['Priority (1,2,3)'].astype(int)"
   ]
  },
  {
   "cell_type": "code",
   "execution_count": 175,
   "metadata": {},
   "outputs": [
    {
     "name": "stdout",
     "output_type": "stream",
     "text": [
      "<class 'pandas.core.frame.DataFrame'>\n",
      "RangeIndex: 1092 entries, 0 to 1091\n",
      "Data columns (total 13 columns):\n",
      " #   Column                      Non-Null Count  Dtype\n",
      "---  ------                      --------------  -----\n",
      " 0   Public Safety and Disaster  1092 non-null   bool \n",
      " 1   cable                       1092 non-null   bool \n",
      " 2   internet/Data               1092 non-null   bool \n",
      " 3   satellite                   1092 non-null   bool \n",
      " 4   wireless                    1092 non-null   bool \n",
      " 5   wireline                    1092 non-null   bool \n",
      " 6   Service Provider            1092 non-null   bool \n",
      " 7   Network Operator            1092 non-null   bool \n",
      " 8   Priority (1,2,3)            1092 non-null   int64\n",
      " 9   Equipment Supplier          1092 non-null   bool \n",
      " 10  Property Manager            1092 non-null   bool \n",
      " 11  Government                  1092 non-null   bool \n",
      " 12  Public Safety               1092 non-null   bool \n",
      "dtypes: bool(12), int64(1)\n",
      "memory usage: 21.5 KB\n"
     ]
    }
   ],
   "source": [
    "df.info()"
   ]
  },
  {
   "cell_type": "code",
   "execution_count": 176,
   "metadata": {},
   "outputs": [],
   "source": [
    "X = df.drop('Priority (1,2,3)', axis=1)\n",
    "y = df['Priority (1,2,3)']"
   ]
  },
  {
   "cell_type": "code",
   "execution_count": 177,
   "metadata": {},
   "outputs": [
    {
     "data": {
      "text/html": [
       "<div>\n",
       "<style scoped>\n",
       "    .dataframe tbody tr th:only-of-type {\n",
       "        vertical-align: middle;\n",
       "    }\n",
       "\n",
       "    .dataframe tbody tr th {\n",
       "        vertical-align: top;\n",
       "    }\n",
       "\n",
       "    .dataframe thead th {\n",
       "        text-align: right;\n",
       "    }\n",
       "</style>\n",
       "<table border=\"1\" class=\"dataframe\">\n",
       "  <thead>\n",
       "    <tr style=\"text-align: right;\">\n",
       "      <th></th>\n",
       "      <th>Public Safety and Disaster</th>\n",
       "      <th>cable</th>\n",
       "      <th>internet/Data</th>\n",
       "      <th>satellite</th>\n",
       "      <th>wireless</th>\n",
       "      <th>wireline</th>\n",
       "      <th>Service Provider</th>\n",
       "      <th>Network Operator</th>\n",
       "      <th>Equipment Supplier</th>\n",
       "      <th>Property Manager</th>\n",
       "      <th>Government</th>\n",
       "      <th>Public Safety</th>\n",
       "    </tr>\n",
       "  </thead>\n",
       "  <tbody>\n",
       "    <tr>\n",
       "      <th>0</th>\n",
       "      <td>True</td>\n",
       "      <td>True</td>\n",
       "      <td>True</td>\n",
       "      <td>True</td>\n",
       "      <td>True</td>\n",
       "      <td>True</td>\n",
       "      <td>True</td>\n",
       "      <td>True</td>\n",
       "      <td>False</td>\n",
       "      <td>False</td>\n",
       "      <td>False</td>\n",
       "      <td>True</td>\n",
       "    </tr>\n",
       "    <tr>\n",
       "      <th>1</th>\n",
       "      <td>False</td>\n",
       "      <td>False</td>\n",
       "      <td>True</td>\n",
       "      <td>False</td>\n",
       "      <td>False</td>\n",
       "      <td>False</td>\n",
       "      <td>True</td>\n",
       "      <td>True</td>\n",
       "      <td>False</td>\n",
       "      <td>False</td>\n",
       "      <td>False</td>\n",
       "      <td>False</td>\n",
       "    </tr>\n",
       "    <tr>\n",
       "      <th>2</th>\n",
       "      <td>False</td>\n",
       "      <td>False</td>\n",
       "      <td>True</td>\n",
       "      <td>False</td>\n",
       "      <td>False</td>\n",
       "      <td>False</td>\n",
       "      <td>True</td>\n",
       "      <td>True</td>\n",
       "      <td>False</td>\n",
       "      <td>False</td>\n",
       "      <td>False</td>\n",
       "      <td>False</td>\n",
       "    </tr>\n",
       "    <tr>\n",
       "      <th>3</th>\n",
       "      <td>False</td>\n",
       "      <td>True</td>\n",
       "      <td>True</td>\n",
       "      <td>True</td>\n",
       "      <td>True</td>\n",
       "      <td>True</td>\n",
       "      <td>True</td>\n",
       "      <td>True</td>\n",
       "      <td>False</td>\n",
       "      <td>False</td>\n",
       "      <td>False</td>\n",
       "      <td>False</td>\n",
       "    </tr>\n",
       "    <tr>\n",
       "      <th>4</th>\n",
       "      <td>False</td>\n",
       "      <td>True</td>\n",
       "      <td>True</td>\n",
       "      <td>True</td>\n",
       "      <td>True</td>\n",
       "      <td>True</td>\n",
       "      <td>False</td>\n",
       "      <td>False</td>\n",
       "      <td>True</td>\n",
       "      <td>False</td>\n",
       "      <td>False</td>\n",
       "      <td>False</td>\n",
       "    </tr>\n",
       "  </tbody>\n",
       "</table>\n",
       "</div>"
      ],
      "text/plain": [
       "   Public Safety and Disaster  cable  internet/Data  satellite  wireless  \\\n",
       "0                        True   True           True       True      True   \n",
       "1                       False  False           True      False     False   \n",
       "2                       False  False           True      False     False   \n",
       "3                       False   True           True       True      True   \n",
       "4                       False   True           True       True      True   \n",
       "\n",
       "   wireline  Service Provider  Network Operator  Equipment Supplier  \\\n",
       "0      True              True              True               False   \n",
       "1     False              True              True               False   \n",
       "2     False              True              True               False   \n",
       "3      True              True              True               False   \n",
       "4      True             False             False                True   \n",
       "\n",
       "   Property Manager  Government  Public Safety  \n",
       "0             False       False           True  \n",
       "1             False       False          False  \n",
       "2             False       False          False  \n",
       "3             False       False          False  \n",
       "4             False       False          False  "
      ]
     },
     "execution_count": 177,
     "metadata": {},
     "output_type": "execute_result"
    }
   ],
   "source": [
    "X.head()"
   ]
  },
  {
   "cell_type": "code",
   "execution_count": 178,
   "metadata": {},
   "outputs": [
    {
     "data": {
      "text/plain": [
       "0    2\n",
       "1    2\n",
       "2    2\n",
       "3    1\n",
       "4    2\n",
       "Name: Priority (1,2,3), dtype: int64"
      ]
     },
     "execution_count": 178,
     "metadata": {},
     "output_type": "execute_result"
    }
   ],
   "source": [
    "y.head()"
   ]
  },
  {
   "cell_type": "code",
   "execution_count": 179,
   "metadata": {},
   "outputs": [],
   "source": [
    "from sklearn.model_selection import train_test_split\n",
    "X_train, X_test, y_train, y_test = train_test_split(X, y, stratify=y, test_size=0.3, random_state=42)"
   ]
  },
  {
   "cell_type": "code",
   "execution_count": 198,
   "metadata": {},
   "outputs": [],
   "source": [
    "from sklearn.neighbors import KNeighborsClassifier\n",
    "from sklearn.metrics import classification_report, confusion_matrix, accuracy_score"
   ]
  },
  {
   "cell_type": "code",
   "execution_count": 326,
   "metadata": {},
   "outputs": [],
   "source": [
    "from sklearn.dummy import DummyClassifier\n",
    "from sklearn.model_selection import cross_val_score\n",
    "from sklearn.metrics import make_scorer, precision_score\n",
    "\n",
    "dummy_classifier = DummyClassifier(strategy='stratified')\n",
    "\n",
    "dummy_classifier.fit(X_train, y_train)\n",
    "\n",
    "dummy_pred = dummy_classifier.predict(X_train)"
   ]
  },
  {
   "cell_type": "code",
   "execution_count": 325,
   "metadata": {},
   "outputs": [
    {
     "name": "stdout",
     "output_type": "stream",
     "text": [
      "Confusion Matrix:\n",
      "[[212 116  57]\n",
      " [116  72  57]\n",
      " [ 58  55  21]]\n",
      "Classification Report:\n",
      "              precision    recall  f1-score   support\n",
      "\n",
      "           1       0.55      0.55      0.55       385\n",
      "           2       0.30      0.29      0.30       245\n",
      "           3       0.16      0.16      0.16       134\n",
      "\n",
      "    accuracy                           0.40       764\n",
      "   macro avg       0.33      0.33      0.33       764\n",
      "weighted avg       0.40      0.40      0.40       764\n",
      "\n",
      "Accuracy: 0.3992146596858639\n"
     ]
    }
   ],
   "source": [
    "result = confusion_matrix(y_train, dummy_pred)\n",
    "print('Confusion Matrix:')\n",
    "print(result)\n",
    "result1 = classification_report(y_train, dummy_pred)\n",
    "print('Classification Report:')\n",
    "print (result1)\n",
    "result2 = accuracy_score(y_train, dummy_pred)\n",
    "print('Accuracy:',result2)"
   ]
  },
  {
   "cell_type": "code",
   "execution_count": 206,
   "metadata": {},
   "outputs": [],
   "source": [
    "from sklearn.ensemble import RandomForestClassifier\n",
    "from sklearn.linear_model import LogisticRegression\n",
    "from sklearn.model_selection import RepeatedStratifiedKFold\n"
   ]
  },
  {
   "cell_type": "code",
   "execution_count": 301,
   "metadata": {},
   "outputs": [
    {
     "name": "stdout",
     "output_type": "stream",
     "text": [
      "Best Hyper Parameters:\n",
      " {'algorithm': 'auto', 'leaf_size': 1, 'n_neighbors': 6, 'weights': 'uniform'}\n"
     ]
    }
   ],
   "source": [
    "from sklearn.model_selection import GridSearchCV\n",
    "knn_classifier = KNeighborsClassifier()\n",
    "params_knn = {'n_neighbors':[5,6,7,8,9,10], 'leaf_size':[1,2,3,5],\n",
    "              'weights':['uniform', 'distance'],\n",
    "              'algorithm':['auto', 'ball_tree','kd_tree','brute']}\n",
    "\n",
    "gs_knn = GridSearchCV(estimator=knn_classifier, param_grid=params_knn, cv=cv_method)\n",
    "\n",
    "gs_knn.fit(X_train, y_train)\n",
    "print(\"Best Hyper Parameters:\\n\",gs_knn.best_params_)"
   ]
  },
  {
   "cell_type": "code",
   "execution_count": 300,
   "metadata": {},
   "outputs": [
    {
     "name": "stdout",
     "output_type": "stream",
     "text": [
      "Confusion Matrix:\n",
      "[[322  59   4]\n",
      " [161  78   6]\n",
      " [ 87  30  17]]\n",
      "Classification Report:\n",
      "              precision    recall  f1-score   support\n",
      "\n",
      "           1       0.56      0.84      0.67       385\n",
      "           2       0.47      0.32      0.38       245\n",
      "           3       0.63      0.13      0.21       134\n",
      "\n",
      "    accuracy                           0.55       764\n",
      "   macro avg       0.55      0.43      0.42       764\n",
      "weighted avg       0.54      0.55      0.50       764\n",
      "\n",
      "Accuracy: 0.5458115183246073\n"
     ]
    }
   ],
   "source": [
    "gs_knn_pred = gs_knn.predict(X_train)\n",
    "\n",
    "result = confusion_matrix(y_train, gs_knn_pred)\n",
    "print('Confusion Matrix:')\n",
    "print(result)\n",
    "result1 = classification_report(y_train, gs_knn_pred)\n",
    "print('Classification Report:')\n",
    "print (result1)\n",
    "result2 = accuracy_score(y_train, gs_knn_pred)\n",
    "print('Accuracy:',result2)"
   ]
  },
  {
   "cell_type": "code",
   "execution_count": 261,
   "metadata": {},
   "outputs": [
    {
     "name": "stdout",
     "output_type": "stream",
     "text": [
      "Best Hyper Parameters:\n",
      " {'criterion': 'gini', 'min_samples_leaf': 3, 'min_samples_split': 7, 'n_estimators': 25, 'random_state': 123}\n"
     ]
    }
   ],
   "source": [
    "rf_classifier = RandomForestClassifier()\n",
    "params_rf = {'criterion':['gini','entropy'], 'n_estimators':[10,15,20,25,30],\n",
    "             'min_samples_leaf':[1,2,3], 'min_samples_split':[3,4,5,6,7],\n",
    "             'random_state':[123]}\n",
    "\n",
    "gs_rf = GridSearchCV(estimator=rf_classifier, param_grid=params_rf, cv=cv_method)\n",
    "\n",
    "gs_rf.fit(X_train, y_train)\n",
    "\n",
    "print(\"Best Hyper Parameters:\\n\",gs_rf.best_params_)"
   ]
  },
  {
   "cell_type": "code",
   "execution_count": 262,
   "metadata": {},
   "outputs": [],
   "source": [
    "gs_rf_pred = gs_rf.predict(X_train)"
   ]
  },
  {
   "cell_type": "code",
   "execution_count": 263,
   "metadata": {},
   "outputs": [
    {
     "name": "stdout",
     "output_type": "stream",
     "text": [
      "Confusion Matrix:\n",
      "[[324  58   3]\n",
      " [161  80   4]\n",
      " [ 90  29  15]]\n",
      "Classification Report:\n",
      "              precision    recall  f1-score   support\n",
      "\n",
      "           1       0.56      0.84      0.67       385\n",
      "           2       0.48      0.33      0.39       245\n",
      "           3       0.68      0.11      0.19       134\n",
      "\n",
      "    accuracy                           0.55       764\n",
      "   macro avg       0.57      0.43      0.42       764\n",
      "weighted avg       0.56      0.55      0.50       764\n",
      "\n",
      "Accuracy: 0.5484293193717278\n"
     ]
    }
   ],
   "source": [
    "result = confusion_matrix(y_train, gs_rf_pred)\n",
    "print('Confusion Matrix:')\n",
    "print(result)\n",
    "result1 = classification_report(y_train, gs_rf_pred)\n",
    "print('Classification Report:')\n",
    "print (result1)\n",
    "result2 = accuracy_score(y_train, gs_rf_pred)\n",
    "print('Accuracy:',result2)"
   ]
  },
  {
   "cell_type": "code",
   "execution_count": null,
   "metadata": {},
   "outputs": [],
   "source": []
  }
 ],
 "metadata": {
  "kernelspec": {
   "display_name": "Python 3",
   "language": "python",
   "name": "python3"
  },
  "language_info": {
   "codemirror_mode": {
    "name": "ipython",
    "version": 3
   },
   "file_extension": ".py",
   "mimetype": "text/x-python",
   "name": "python",
   "nbconvert_exporter": "python",
   "pygments_lexer": "ipython3",
   "version": "3.8.2"
  }
 },
 "nbformat": 4,
 "nbformat_minor": 4
}
